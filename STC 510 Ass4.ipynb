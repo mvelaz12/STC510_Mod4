{
 "cells": [
  {
   "cell_type": "code",
   "execution_count": null,
   "metadata": {},
   "outputs": [],
   "source": [
    "#standard imports\n",
    "import requests\n",
    "from bs4 import BeautifulSoup\n",
    "from time import sleep\n",
    "import pandas as pd"
   ]
  },
  {
   "cell_type": "code",
   "execution_count": null,
   "metadata": {},
   "outputs": [],
   "source": [
    "#tried this from the video lecture with no avail\n",
    "\n",
    "#def grabarticle(thisurl):\n",
    "  #thispage = requests.get(thisurl)\n",
    "  #bs = BeautifulSoup(thispage.text,'html.parser')\n",
    "  #paragraphs = bs.find(class_='postingbody').find_all('p')\n",
    "  #article = '\\n\\n'.join(x.text for x in paragraphs)\n",
    "  #return {'url':thisurl, 'keyword':article}"
   ]
  },
  {
   "cell_type": "code",
   "execution_count": null,
   "metadata": {},
   "outputs": [],
   "source": [
    "#this gets all the links in garage sales and makes it readable thanks to BS\n",
    "thispage = requests.get('https://phoenix.craigslist.org/d/garage-moving-sales/search/gms')\n",
    "bs = BeautifulSoup(thispage.text,'html.parser')\n",
    "results = bs.find_all('li',class_='result-row')\n",
    "sleep(5)\n"
   ]
  },
  {
   "cell_type": "code",
   "execution_count": null,
   "metadata": {},
   "outputs": [],
   "source": [
    "#results"
   ]
  },
  {
   "cell_type": "code",
   "execution_count": 73,
   "metadata": {},
   "outputs": [],
   "source": [
    "#This was the trial to find the correct HTML headers and make sure it's in the form I need\n",
    "\n",
    "#results_one = results[0]\n",
    "#results_one.find('a', href=True)\n",
    "#ones_titles = results_one.find('a',class_=\"result-title hdrlnk\")\n",
    "#print(ones_titles)\n",
    "#results_ones_link = ones_titles['href']\n",
    "#print(results_ones_link)"
   ]
  },
  {
   "cell_type": "code",
   "execution_count": 74,
   "metadata": {},
   "outputs": [
    {
     "name": "stdout",
     "output_type": "stream",
     "text": [
      "\n",
      "\n"
     ]
    }
   ],
   "source": [
    "#loop that catagorizes the link, or text \n",
    "l_Text = []\n",
    "l_Links= []\n",
    "\n",
    "for result in results:\n",
    "    listing_title = result.find('a',class_='result-title hdrlnk', href=True)\n",
    "    lText = listing_title.text\n",
    "    l_Text.append(lText)\n",
    "    listing_link = listing_title['href']\n",
    "    l_Links.append(listing_link)\n",
    "print('\\n')\n"
   ]
  },
  {
   "cell_type": "code",
   "execution_count": 85,
   "metadata": {},
   "outputs": [],
   "source": [
    "#I tried to make a csv with the headers so I could use the titles to find the information in the postings, did not work \n",
    "#df = pd.read_csv('keywords.csv')\n",
    "#keywords = ['mattress','cabinet','wrench']"
   ]
  },
  {
   "cell_type": "code",
   "execution_count": 93,
   "metadata": {},
   "outputs": [],
   "source": [
    "#A loop to search theough all the link's body and search these words, if found it's appended to the list\n",
    "end_results = []\n",
    "for link in l_Links:\n",
    "    getlink = requests.get(link)\n",
    "    bs_link = BeautifulSoup(getlink.text, 'html.parser')\n",
    "    sleep(10)\n",
    "    bodies = bs_link.find(id='postingbody')\n",
    "    try:\n",
    "        if 'mattress' in bodies.text:\n",
    "            mattress=('mattress', link)\n",
    "            end_results.append(mattress)\n",
    "        if 'cabinet' in bodies.text:\n",
    "            cabinet=('cabinet',link)\n",
    "            end_results.append(cabinet)\n",
    "        if 'wrench' in bodies.text:\n",
    "            wrench=('cabinet',link)\n",
    "            end_results.append(wrench)\n",
    "    except:\n",
    "        print('error')\n",
    "    "
   ]
  },
  {
   "cell_type": "code",
   "execution_count": 95,
   "metadata": {},
   "outputs": [
    {
     "data": {
      "text/plain": [
       "[('cabinet',\n",
       "  'https://phoenix.craigslist.org/nph/gms/d/scottsdale-moving-sale/7279580013.html'),\n",
       " ('cabinet',\n",
       "  'https://phoenix.craigslist.org/evl/gms/d/fountain-hills-multi-family-tools/7282504265.html'),\n",
       " ('cabinet',\n",
       "  'https://phoenix.craigslist.org/wvl/gms/d/sun-city-west-garage-sale/7284639755.html'),\n",
       " ('cabinet',\n",
       "  'https://phoenix.craigslist.org/evl/gms/d/fountain-hills-multi-family-tools/7282504265.html'),\n",
       " ('cabinet',\n",
       "  'https://phoenix.craigslist.org/wvl/gms/d/sun-city-west-garage-sale/7284639755.html'),\n",
       " ('mattress',\n",
       "  'https://phoenix.craigslist.org/cph/gms/d/phoenix-yard-estate-sale/7283688750.html'),\n",
       " ('mattress',\n",
       "  'https://phoenix.craigslist.org/cph/gms/d/phoenix-yard-estate-sale/7283688750.html'),\n",
       " ('mattress',\n",
       "  'https://tucson.craigslist.org/gms/d/tucson-estate-sale/7280256597.html'),\n",
       " ('cabinet',\n",
       "  'https://tucson.craigslist.org/gms/d/tucson-estate-sale/7280256597.html'),\n",
       " ('mattress',\n",
       "  'https://tucson.craigslist.org/gms/d/tucson-garage-sale/7283618597.html'),\n",
       " ('cabinet',\n",
       "  'https://flagstaff.craigslist.org/gms/d/cornville-yard-sale-spring-cleaning/7284858275.html')]"
      ]
     },
     "execution_count": 95,
     "metadata": {},
     "output_type": "execute_result"
    }
   ],
   "source": [
    "end_results"
   ]
  },
  {
   "cell_type": "code",
   "execution_count": null,
   "metadata": {},
   "outputs": [],
   "source": []
  }
 ],
 "metadata": {
  "kernelspec": {
   "display_name": "Python 3",
   "language": "python",
   "name": "python3"
  }
 },
 "nbformat": 4,
 "nbformat_minor": 4
}
